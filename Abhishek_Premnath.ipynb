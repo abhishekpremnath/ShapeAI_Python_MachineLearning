{
  "nbformat": 4,
  "nbformat_minor": 0,
  "metadata": {
    "colab": {
      "name": "Abhishek_Premnath.ipynb",
      "provenance": []
    },
    "kernelspec": {
      "name": "python3",
      "display_name": "Python 3"
    },
    "language_info": {
      "name": "python"
    }
  },
  "cells": [
    {
      "cell_type": "code",
      "metadata": {
        "colab": {
          "base_uri": "https://localhost:8080/"
        },
        "id": "RChBbbmKOYNL",
        "outputId": "f81cf679-4c27-4ab3-c818-b642a3e024d7"
      },
      "source": [
        "import numpy as np\n",
        "import pandas as pd\n",
        "import sklearn\n",
        "\n",
        "from sklearn.datasets import load_boston\n",
        "df=load_boston()\n",
        "df.keys()\n",
        "\n",
        "boston = pd.DataFrame(df.data, columns=df.feature_names)\n",
        "boston.head()\n",
        "boston['MEDV'] = df.target\n",
        "boston.head()\n",
        "boston.isnull()\n",
        "boston.isnull().sum()\n",
        "\n",
        "from sklearn.model_selection import train_test_split\n",
        "X=boston.drop('MEDV',axis=1)\n",
        "Y=boston['MEDV']\n",
        "X_train, X_test, Y_train, Y_test=train_test_split(X,Y,test_size=0.15,random_state=5)\n",
        "print(X_train.shape)\n",
        "print(X_test.shape)\n",
        "print(Y_train.shape)\n",
        "print(Y_test.shape)\n",
        "\n",
        "from sklearn.linear_model import LinearRegression\n",
        "from sklearn.metrics import mean_squared_error\n",
        "lin_model=LinearRegression()\n",
        "lin_model.fit(X_train,Y_train)\n",
        "y_train_predict=lin_model.predict(X_train)\n",
        "rmse=(np.sqrt(mean_squared_error(Y_train,y_train_predict)))\n",
        "print(\"The model performance for training set\")\n",
        "print(\"RMSE is {}\".format(rmse))\n",
        "print(\"\\n\")\n",
        "y_test_predict=lin_model.predict(X_test)\n",
        "rmse=(np.sqrt(mean_squared_error(Y_test,y_test_predict)))\n",
        "print(\"The model performance for training set\")\n",
        "print(\"RMSE is {}\".format(rmse))\n",
        "print(\"\\n\")\n"
      ],
      "execution_count": 15,
      "outputs": [
        {
          "output_type": "stream",
          "text": [
            "(430, 13)\n",
            "(76, 13)\n",
            "(430,)\n",
            "(76,)\n",
            "The model performance for training set\n",
            "RMSE is 4.710901797319795\n",
            "\n",
            "\n",
            "The model performance for training set\n",
            "RMSE is 4.687543527902971\n",
            "\n",
            "\n"
          ],
          "name": "stdout"
        }
      ]
    }
  ]
}